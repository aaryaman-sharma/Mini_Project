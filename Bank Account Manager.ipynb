{
 "cells": [
  {
   "cell_type": "code",
   "execution_count": 3,
   "id": "f4a150b3",
   "metadata": {},
   "outputs": [],
   "source": [
    "class Account:\n",
    "    # Define an __init__ constructor method with attributes shared by all accounts:\n",
    "    def __init__(self,acct_nbr,opening_deposit):\n",
    "        self.acct_nbr = acct_nbr\n",
    "        self.balance=opening_deposit\n",
    "    def __str__(self):\n",
    "        return f'${self.balance:.2f}'\n",
    "    def deposit(self,dep_amt):\n",
    "        self.balance+=dep_amt\n",
    "    def withdraw(self,wd_amt):\n",
    "        if self.balance>=wd_amt:\n",
    "            self.balance-=wd_amt\n",
    "        else:\n",
    "            return 'Funds unavailable';\n",
    "\n",
    "\n",
    "class Checking(Account):\n",
    "    def __init__(self,acct_nbr,opening_deposit):\n",
    "        super().__init__(acct_nbr,opening_deposit)\n",
    "    def __str__(self):\n",
    "        return f'Checking Account #{self.acct_nbr}\\nBalance:{Account.__str__(self)}';\n",
    "\n",
    "\n",
    "class Savings(Account):\n",
    "    def __init__(self,acct_nbr,opening_deposit):\n",
    "        super().__init__(acct_nbr,opening_deposit)\n",
    "    def __str__(self):\n",
    "        return f'Savings Account #{self.acct_nbr}\\nBalance: {Account.__str__(self)}'\n",
    "class Business(Account):\n",
    "    def __init__(self,acct_nbr,opening_deposit):\n",
    "        super().__init__(acct_nbr,opening_deposit)\n",
    "    def __str__(self):\n",
    "        return f'Business Account #{self.acct_nbr} \\nBalance: {Account.__str__(self)}'"
   ]
  },
  {
   "cell_type": "code",
   "execution_count": null,
   "id": "44ff13b3",
   "metadata": {},
   "outputs": [],
   "source": []
  }
 ],
 "metadata": {
  "kernelspec": {
   "display_name": "Python 3 (ipykernel)",
   "language": "python",
   "name": "python3"
  },
  "language_info": {
   "codemirror_mode": {
    "name": "ipython",
    "version": 3
   },
   "file_extension": ".py",
   "mimetype": "text/x-python",
   "name": "python",
   "nbconvert_exporter": "python",
   "pygments_lexer": "ipython3",
   "version": "3.9.7"
  }
 },
 "nbformat": 4,
 "nbformat_minor": 5
}
